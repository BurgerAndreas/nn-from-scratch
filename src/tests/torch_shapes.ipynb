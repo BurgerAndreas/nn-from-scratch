{
 "cells": [
  {
   "cell_type": "code",
   "execution_count": 29,
   "metadata": {},
   "outputs": [],
   "source": [
    "import torch"
   ]
  },
  {
   "cell_type": "code",
   "execution_count": 30,
   "metadata": {},
   "outputs": [
    {
     "name": "stdout",
     "output_type": "stream",
     "text": [
      "/Users/a-burger-zeb/Coding/nn-from-scratch/src\n"
     ]
    }
   ],
   "source": [
    "# adding to the system path\n",
    "import os\n",
    "import sys\n",
    "# d = os.path.dirname(os.path.dirname(os.path.abspath(__file__)))\n",
    "d = os.path.dirname(os.getcwd())\n",
    "sys.path.insert(0, d)\n",
    "# export PYTHONPATH=’path/to/directory’\n",
    "print(d)"
   ]
  },
  {
   "cell_type": "code",
   "execution_count": 31,
   "metadata": {},
   "outputs": [],
   "source": [
    "from helpers.get_data import create_linear_data, train_test_split, create_random_data"
   ]
  },
  {
   "cell_type": "code",
   "execution_count": 32,
   "metadata": {},
   "outputs": [],
   "source": [
    "dim = 5"
   ]
  },
  {
   "cell_type": "code",
   "execution_count": 33,
   "metadata": {},
   "outputs": [
    {
     "name": "stdout",
     "output_type": "stream",
     "text": [
      "torch.Size([10, 5]) torch.Size([10])\n"
     ]
    }
   ],
   "source": [
    "x, y = create_random_data(num_samples=10, dim=dim, binary=True) # (samples, dim), (samples,)\n",
    "print(x.shape, y.shape)"
   ]
  },
  {
   "cell_type": "code",
   "execution_count": 34,
   "metadata": {},
   "outputs": [
    {
     "name": "stdout",
     "output_type": "stream",
     "text": [
      "torch.Size([5, 1])\n",
      "torch.Size([1])\n"
     ]
    }
   ],
   "source": [
    "w = torch.rand(size=[dim, 1], requires_grad=True) # (dim, 1)\n",
    "b = torch.rand(size=[1], requires_grad=True) # (1,)\n",
    "print(w.shape)\n",
    "print(b.shape)"
   ]
  },
  {
   "cell_type": "code",
   "execution_count": 35,
   "metadata": {},
   "outputs": [
    {
     "name": "stdout",
     "output_type": "stream",
     "text": [
      "torch.Size([10, 1])\n",
      "tensor([[0.9187],\n",
      "        [0.9318],\n",
      "        [0.9051],\n",
      "        [0.7978],\n",
      "        [0.9314],\n",
      "        [0.8967],\n",
      "        [0.8941],\n",
      "        [0.8035],\n",
      "        [0.8812],\n",
      "        [0.8849]], grad_fn=<SigmoidBackward0>)\n"
     ]
    }
   ],
   "source": [
    "out = torch.sigmoid(x @ w + b) # (samples, 1)\n",
    "print(out.shape)\n",
    "print(out)"
   ]
  },
  {
   "cell_type": "code",
   "execution_count": null,
   "metadata": {},
   "outputs": [],
   "source": []
  }
 ],
 "metadata": {
  "kernelspec": {
   "display_name": "nn_p10",
   "language": "python",
   "name": "python3"
  },
  "language_info": {
   "codemirror_mode": {
    "name": "ipython",
    "version": 3
   },
   "file_extension": ".py",
   "mimetype": "text/x-python",
   "name": "python",
   "nbconvert_exporter": "python",
   "pygments_lexer": "ipython3",
   "version": "3.10.9"
  },
  "orig_nbformat": 4,
  "vscode": {
   "interpreter": {
    "hash": "4cfd53eaee0be597304b88a4f339e1f5d45f9cab7dc565919ba4fdda7e90d79f"
   }
  }
 },
 "nbformat": 4,
 "nbformat_minor": 2
}
